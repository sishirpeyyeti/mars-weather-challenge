{
 "cells": [
  {
   "cell_type": "code",
   "execution_count": 1,
   "metadata": {},
   "outputs": [],
   "source": [
    "# Import relevant libraries\n",
    "from splinter import Browser\n",
    "from bs4 import BeautifulSoup as soup\n",
    "import pandas as pd\n",
    "import matplotlib.pyplot as plt\n",
    "\n",
    "# Set up the browser\n",
    "browser = Browser('chrome')\n",
    "url = 'https://static.bc-edx.com/data/web/mars_facts/temperature.html'\n",
    "browser.visit(url)\n",
    "\n",
    "# Create a Beautiful Soup object\n",
    "html = browser.html\n",
    "mars_weather_soup = soup(html, 'html.parser')\n",
    "\n",
    "# Scrape the data into a Pandas DataFrame\n",
    "table = mars_weather_soup.find('table')\n",
    "mars_weather_df = pd.read_html(str(table))[0]\n",
    "\n",
    "# Examine and convert data types if necessary\n",
    "# (Assuming 'terrestrial_date' is the date on Earth)\n",
    "mars_weather_df['terrestrial_date'] = pd.to_datetime(mars_weather_df['terrestrial_date'])\n",
    "\n",
    "\n",
    "# Analyze the dataset\n",
    "# How many months exist on Mars?\n",
    "num_months = mars_weather_df['month'].nunique()\n",
    "\n",
    "# How many Martian days worth of data exist in the scraped dataset?\n",
    "num_sols = mars_weather_df['sol'].nunique()\n",
    "\n",
    "# Coldest and warmest months on Mars\n",
    "average_min_temp = mars_weather_df.groupby('month')['min_temp'].mean()\n",
    "\n",
    "# Plot the results as a bar chart\n",
    "average_min_temp.plot(kind='bar')\n",
    "plt.title('Average Minimum Daily Temperature on Mars by Month')\n",
    "plt.xlabel('Month')\n",
    "plt.ylabel('Average Minimum Temperature (Celsius)')\n",
    "plt.show()\n",
    "\n",
    "# Lowest and highest atmospheric pressure on Mars\n",
    "average_pressure = mars_weather_df.groupby('month')['pressure'].mean()\n",
    "\n",
    "# Plot the results as a bar chart\n",
    "average_pressure.plot(kind='bar')\n",
    "plt.title('Average Daily Atmospheric Pressure on Mars by Month')\n",
    "plt.xlabel('Month')\n",
    "plt.ylabel('Average Atmospheric Pressure')\n",
    "plt.show()\n",
    "\n",
    "# About how many terrestrial days exist in a Martian year?\n",
    "# (Consider how many days elapse on Earth in the time that Mars circles the Sun once)\n",
    "# Visual estimate by plotting the daily minimum temperature\n",
    "plt.plot(mars_weather_df['terrestrial_date'], mars_weather_df['min_temp'])\n",
    "plt.title('Daily Minimum Temperature on Mars')\n",
    "plt.xlabel('Terrestrial Date')\n",
    "plt.ylabel('Minimum Temperature (Celsius)')\n",
    "plt.show()\n",
    "\n",
    "# Export the DataFrame to a CSV file\n",
    "mars_weather_df.to_csv('mars_weather_data.csv', index=False)\n",
    "\n",
    "# Close the browser\n",
    "browser.quit()\n"
   ]
  }
 ],
 "metadata": {
  "kernelspec": {
   "display_name": "Python 3 (ipykernel)",
   "language": "python",
   "name": "python3"
  },
  "language_info": {
   "codemirror_mode": {
    "name": "ipython",
    "version": 3
   },
   "file_extension": ".py",
   "mimetype": "text/x-python",
   "name": "python",
   "nbconvert_exporter": "python",
   "pygments_lexer": "ipython3",
   "version": "3.10.4"
  },
  "vscode": {
   "interpreter": {
    "hash": "31f2aee4e71d21fbe5cf8b01ff0e069b9275f58929596ceb00d14d90e3e16cd6"
   }
  }
 },
 "nbformat": 4,
 "nbformat_minor": 4
}
